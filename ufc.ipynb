{
 "cells": [
  {
   "cell_type": "markdown",
   "metadata": {},
   "source": [
    "## ufc.ipynb\n",
    "This file loads the csv file, cleans the data, and creates visualizations from the data. It is a work in progress. Data cleaning has been finalized. I am currently working on the analysis/visualization portion."
   ]
  },
  {
   "cell_type": "code",
   "execution_count": 3,
   "metadata": {},
   "outputs": [],
   "source": [
    "import pandas as pd\n",
    "import numpy as np\n",
    "import matplotlib.pyplot as plt\n",
    "%matplotlib inline"
   ]
  },
  {
   "cell_type": "code",
   "execution_count": 51,
   "metadata": {},
   "outputs": [],
   "source": [
    "df = pd.read_csv(\"data/processed/fights.csv\")\n",
    "#df"
   ]
  },
  {
   "cell_type": "markdown",
   "metadata": {},
   "source": [
    "<h2>Exploratory Info</h2>"
   ]
  },
  {
   "cell_type": "code",
   "execution_count": null,
   "metadata": {},
   "outputs": [],
   "source": [
    "df.info()"
   ]
  },
  {
   "cell_type": "code",
   "execution_count": null,
   "metadata": {},
   "outputs": [],
   "source": [
    "df.describe(include='all')"
   ]
  },
  {
   "cell_type": "code",
   "execution_count": null,
   "metadata": {},
   "outputs": [],
   "source": [
    "#unique Result values\n",
    "print(*pd.unique(df['Result']), sep='\\n')"
   ]
  },
  {
   "cell_type": "code",
   "execution_count": null,
   "metadata": {},
   "outputs": [],
   "source": [
    "#unique weight class values\n",
    "print(*pd.unique(df['WeightClass']), sep='\\n')"
   ]
  },
  {
   "cell_type": "code",
   "execution_count": null,
   "metadata": {},
   "outputs": [],
   "source": [
    "#unique Outcome values\n",
    "print(*pd.unique(df['Outcome']), sep='\\n')"
   ]
  },
  {
   "cell_type": "code",
   "execution_count": null,
   "metadata": {},
   "outputs": [],
   "source": [
    "#look at spceific values in a column\n",
    "df.loc[df.Outcome.str.contains('Miesha Tate'),:]"
   ]
  },
  {
   "cell_type": "code",
   "execution_count": null,
   "metadata": {},
   "outputs": [],
   "source": [
    "#unique fighter1  names\n",
    "print(*pd.unique(df['Fighter1']), sep='\\n')"
   ]
  },
  {
   "cell_type": "code",
   "execution_count": null,
   "metadata": {},
   "outputs": [],
   "source": [
    "print(df.groupby('Fighter1').size())"
   ]
  },
  {
   "cell_type": "code",
   "execution_count": null,
   "metadata": {},
   "outputs": [],
   "source": [
    "pd.options.display.max_rows = 1000\n",
    "ndf = df[['EventType', 'EventNum', 'EventNickname']].copy()\n",
    "ndf.drop_duplicates(keep='first', inplace=True)\n",
    "ndf.sort_values(by=['EventType', 'EventNum'], inplace=True)\n",
    "print(\"There have been {0} UFC fights.\".format(len(ndf))) #416\n",
    "ndf"
   ]
  },
  {
   "cell_type": "markdown",
   "metadata": {},
   "source": [
    "<h2>Feature Engineering</h2>"
   ]
  },
  {
   "cell_type": "code",
   "execution_count": 52,
   "metadata": {},
   "outputs": [],
   "source": [
    "#create isTitle column to indicate championship fights (must be done before setting def. champ)\n",
    "df['isTitle'] = np.where(\n",
    "    (df.Fighter1.str.contains(\"\\(c\\)|\\(ic\\)\")) |\n",
    "    (df.Fighter2.str.contains(\"\\(c\\)|\\(ic\\)\"))\n",
    "    , True, False)"
   ]
  },
  {
   "cell_type": "code",
   "execution_count": 53,
   "metadata": {},
   "outputs": [],
   "source": [
    "def setDefendingChamp(row):\n",
    "    if (\"(c)\" in row.Fighter1 or \"(ic)\" in row.Fighter1) and (\"(c)\" in row.Fighter2 or \"(ic)\" in row.Fighter2):\n",
    "        return row.Fighter1.strip() + ',' + row.Fighter2.strip()\n",
    "    elif \"(c)\" in row.Fighter1 or \"(ic)\" in row.Fighter1:\n",
    "        return row.Fighter1.strip()\n",
    "    elif \"(c)\" in row.Fighter2 or \"(ic)\" in row.Fighter2:\n",
    "        return row.Fighter2.strip()\n",
    "    else:\n",
    "        return ''"
   ]
  },
  {
   "cell_type": "code",
   "execution_count": 54,
   "metadata": {},
   "outputs": [],
   "source": [
    "#call setDefendingChamp\n",
    "df['Defending'] = ''\n",
    "df.Defending = df.apply(lambda x: setDefendingChamp(x), axis=1)\n",
    "#df.loc[df.Fighter1.str.contains('\\(c\\)') | df.Fighter1.str.contains('\\(ic\\)') | df.Fighter2.str.contains('\\(c\\)') | df.Fighter2.str.contains('\\(ic\\)'),['isTitle', 'Fighter1', 'Fighter2', 'Defending']]\n",
    "\n",
    "#remove (c) and (ic) from Fighter1 and Fighter2\n",
    "df.Fighter1 = df.Fighter1.str.replace(r\"\\(.*\\)\",\"\")\n",
    "df.Fighter2 = df.Fighter2.str.replace(r\"\\(.*\\)\",\"\")\n",
    "#df.loc[df.isTitle == True,['isTitle', 'Fighter1', 'Fighter2', 'Defending']]"
   ]
  },
  {
   "cell_type": "code",
   "execution_count": 55,
   "metadata": {},
   "outputs": [],
   "source": [
    "#create a gender column based on weight class text\n",
    "df['Gender'] = np.where(df.WeightClass.str.contains(\"Women\"), 'F', 'M')\n",
    "#df"
   ]
  },
  {
   "cell_type": "code",
   "execution_count": 56,
   "metadata": {},
   "outputs": [],
   "source": [
    "#clean weight class text\n",
    "df.WeightClass = np.where(df.WeightClass.str.contains(\"Catchweight\"), 'Catchweight', df.WeightClass)\n",
    "df.WeightClass = df.WeightClass.str.replace('Women\\'s ', '')\n",
    "#df"
   ]
  },
  {
   "cell_type": "code",
   "execution_count": 57,
   "metadata": {},
   "outputs": [],
   "source": [
    "#clean result\n",
    "df.Result = df.Result.str.replace('def.', 'def')\n",
    "df.Result = df.Result.str.replace('vs.', 'vs')\n",
    "#print(pd.unique(df['Result']))"
   ]
  },
  {
   "cell_type": "code",
   "execution_count": 58,
   "metadata": {},
   "outputs": [],
   "source": [
    "#clean Outcome columns (eliminate space in outcome, so I can split on first space)\n",
    "df.Outcome = df.Outcome.str.replace('Technical Submission','Submission')\n",
    "df.Outcome = df.Outcome.str.replace('Technical submission','Submission')\n",
    "df.Outcome = df.Outcome.str.replace('Verbal Submission', 'Submission')\n",
    "df.Outcome = df.Outcome.str.replace('No Contest', 'No_Contest')\n",
    "df.Outcome = df.Outcome.str.replace('DQ', 'Disqualification')\n",
    "df.Outcome = df.Outcome.str.replace('Referee Stoppage', 'TKO (Referee Stoppage)')\n",
    "df.Outcome = df.Outcome.str.replace('Technical Decision', 'Decision')\n",
    "#split outcome into two columns\n",
    "df['Outcome1'], df['Outcome2'] = df.Outcome.str.split(' ', 1).str\n",
    "#df\n",
    "#print(pd.unique(df['Outcome1']))"
   ]
  },
  {
   "cell_type": "code",
   "execution_count": 59,
   "metadata": {},
   "outputs": [],
   "source": [
    "df.Outcome2 = df.Outcome2.fillna('')\n",
    "df.Outcome2 = df.Outcome2.str.strip()\n",
    "df.Outcome2 = df.Outcome2.str.lower()\n",
    "df.Outcome2 = df.Outcome2.str.replace('(','')\n",
    "df.Outcome2 = df.Outcome2.str.replace(')','')\n",
    "#df.Outcome2"
   ]
  },
  {
   "cell_type": "code",
   "execution_count": 60,
   "metadata": {},
   "outputs": [],
   "source": [
    "#clean unanimous decision (run once)\n",
    "if 'Judges' not in df.columns:\n",
    "    df['Judges'] = (np.where(df.Outcome2.str.contains('unanimous'),\n",
    "                  df.Outcome2.str.split('unanimous').str[1], ''))\n",
    "    df.Outcome2 = (np.where(df.Outcome2.str.contains('unanimous'),\n",
    "                  df.Outcome2.str.split(' ', n=1).str[0], df.Outcome2))\n",
    "    #clean split decision\n",
    "    df.Judges = (np.where(df.Outcome2.str.contains('split'),\n",
    "                  df.Outcome2.str.split('split').str[1], df.Judges))\n",
    "    df.Outcome2 = (np.where(df.Outcome2.str.contains('split'),\n",
    "                  df.Outcome2.str.split(' ', n=1).str[0], df.Outcome2))\n",
    "    #clean majority decision\n",
    "    df.Judges = (np.where(df.Outcome2.str.contains('majority'),\n",
    "                  df.Outcome2.str.split('majority').str[1], df.Judges))\n",
    "    df.Outcome2 = (np.where(df.Outcome2.str.contains('majority'),\n",
    "                  df.Outcome2.str.split(' ', n=1).str[0], df.Outcome2))\n",
    "\n",
    "#df[['Outcome2', 'Judges']]"
   ]
  },
  {
   "cell_type": "code",
   "execution_count": 61,
   "metadata": {},
   "outputs": [],
   "source": [
    "#clean Outcome2\n",
    "\n",
    "#punches and elbows\n",
    "df.Outcome2 = df.Outcome2.str.replace(r'^elbow and punches$','punches and elbows')\n",
    "df.Outcome2 = df.Outcome2.str.replace(r'^elbows and punches$','punches and elbows')\n",
    "df.Outcome2 = df.Outcome2.str.replace(r'^elbow and punch$','punches and elbows')\n",
    "df.Outcome2 = df.Outcome2.str.replace(r'^punches and elbow$','punches and elbows')\n",
    "df.Outcome2 = df.Outcome2.str.replace(r'^punch and elbows$','punches and elbows')\n",
    "#knees and punches\n",
    "df.Outcome2 = df.Outcome2.str.replace(r'^knee and punches$','knees and punches')\n",
    "df.Outcome2 = df.Outcome2.str.replace(r'^punches and knee$','knees and punches')\n",
    "df.Outcome2 = df.Outcome2.str.replace(r'^punches and knees$','knees and punches')\n",
    "df.Outcome2 = df.Outcome2.str.replace(r'^punch and knee$','knees and punches')\n",
    "df.Outcome2 = df.Outcome2.str.replace(r'^knees to the body and punches$','knees and punches')\n",
    "df.Outcome2 = df.Outcome2.str.replace(r'^knee to the body and punches$','knees and punches')\n",
    "df.Outcome2 = df.Outcome2.str.replace(r'^knees & punches$','knees and punches')\n",
    "df.Outcome2 = df.Outcome2.str.replace(r'^knee & punches$','knees and punches')\n",
    "#elbows\n",
    "df.Outcome2 = df.Outcome2.str.replace(r'^elbows and knees$','knees and elbow')\n",
    "df.Outcome2 = df.Outcome2.str.replace(r'^knees to the body and elbows$','knees and elbow')\n",
    "df.Outcome2 = df.Outcome2.str.replace(r'^knee$','knees')\n",
    "df.Outcome2 = df.Outcome2.str.replace(r'^knees to the body$','knees')\n",
    "df.Outcome2 = df.Outcome2.str.replace(r'^knee to the body$','knees')\n",
    "df.Outcome2 = df.Outcome2.str.replace(r'^punch$','punches')\n",
    "df.Outcome2 = df.Outcome2.str.replace(r'^elbow$','elbows')\n",
    "#choke\n",
    "df.Outcome2 = df.Outcome2.str.replace(r'^arm-triangle$','arm-triangle choke')\n",
    "df.Outcome2 = df.Outcome2.str.replace(r'^modified guillotine choke$','guillotine choke')\n",
    "df.Outcome2 = df.Outcome2.str.replace(r'^guillotine choke / exhaustion$','guillotine choke')\n",
    "df.Outcome2 = df.Outcome2.str.replace(r'^triangle choke with elbows$','triangle choke')\n",
    "df.Outcome2 = df.Outcome2.str.replace(r'^mounted triangle choke$','triangle choke')\n",
    "#armbar\n",
    "df.Outcome2 = df.Outcome2.str.replace(r'^straight armbar$','armbar')\n",
    "df.Outcome2 = df.Outcome2.str.replace(r'^cross-body armbar$','armbar')\n",
    "df.Outcome2 = df.Outcome2.str.replace(r'^cross-body armbar$','armbar')\n",
    "df.Outcome2 = df.Outcome2.str.replace(r'^arm-triangle choke$','armbar')\n",
    "df.Outcome2 = df.Outcome2.str.replace(r'^triangle armbar$','armbar')\n",
    "#other\n",
    "df.Outcome2 = df.Outcome2.str.replace(r'^superman punch and punches$','superman punch')\n",
    "df.Outcome2 = df.Outcome2.str.replace(r'^flying knee and punch$','flying knee and punches')\n",
    "df.Outcome2 = df.Outcome2.str.replace(r'^flying knee and strikes$','flying knee and punches')\n",
    "df.Outcome2 = df.Outcome2.str.replace(r'^spinning back kick to the body and punches$','spinning back kick and punches')\n",
    "df.Outcome2 = df.Outcome2.str.replace(r'^knee and spinning back kick to the body$','spinning back kick and knee')\n",
    "df.Outcome2 = df.Outcome2.str.replace(r'^slam$','body slam')\n",
    "df.Outcome2 = df.Outcome2.str.replace(r'^slam and punch$','body slam')\n",
    "df.Outcome2 = df.Outcome2.str.replace(r'^slam and punches$','body slam')\n",
    "df.Outcome2 = df.Outcome2.str.replace(r'^head kick and punch$','head kick and punches')\n",
    "df.Outcome2 = df.Outcome2.str.replace(r'^punch and head kick$','head kick and punches')\n",
    "df.Outcome2 = df.Outcome2.str.replace(r'^head kick and body punch$','head kick and punches')\n",
    "df.Outcome2 = df.Outcome2.str.replace(r'^punches and head kick$','head kick and punches')\n",
    "df.Outcome2 = df.Outcome2.str.replace(r'^flying head kick and punches$','flying head kick')\n",
    "df.Outcome2 = df.Outcome2.str.replace(r'^leg kick$','leg kicks')\n",
    "df.Outcome2 = df.Outcome2.str.replace(r'^illegal knee$','illegal knees')\n",
    "df.Outcome2 = df.Outcome2.str.replace(r'^kick to the body and punch$','body kick and punches')\n",
    "df.Outcome2 = df.Outcome2.str.replace(r'^body kicks and punches$','body kick and punches')\n",
    "df.Outcome2 = df.Outcome2.str.replace(r'^front kick to the body and punches$','front kick and punches')\n",
    "df.Outcome2 = df.Outcome2.str.replace(r'^suplex and punches$','suplex')\n",
    "df.Outcome2 = df.Outcome2.str.replace(r'^inverted triangle kimura$','kimura')\n",
    "df.Outcome2 = df.Outcome2.str.replace(r'^reverse triangle and kimura$','kimura')\n",
    "df.Outcome2 = df.Outcome2.str.replace(r'^modified kimura$','kimura')\n",
    "df.Outcome2 = df.Outcome2.str.replace(r'^body punch$','body punches')\n",
    "df.Outcome2 = df.Outcome2.str.replace(r'^punches to the body$','body punches')\n",
    "df.Outcome2 = df.Outcome2.str.replace(r'^punch to the body$','body punches')\n",
    "#remove bracketed items\n",
    "df.Outcome2 = df.Outcome2.str.replace(r\"\\[.*\\]\",\"\")\n",
    "\n",
    "#show number f unique values\n",
    "#print(df.Outcome2.nunique())\n",
    "\n",
    "#show unique values\n",
    "#print(*df.Outcome2.unique(), sep='\\n')\n",
    "\n",
    "#show specific unique strings contained in Outcome2\n",
    "#print(*df.loc[df.Outcome2.str.contains('punch'),'Outcome2'].unique(), sep='\\n')"
   ]
  },
  {
   "cell_type": "code",
   "execution_count": 90,
   "metadata": {},
   "outputs": [
    {
     "name": "stdout",
     "output_type": "stream",
     "text": [
      "count with duplicates: 468\n",
      "count without duplicates: 125\n"
     ]
    },
    {
     "data": {
      "text/plain": [
       "1226              Aisling Daly\n",
       "1082           Aleksandra Albu\n",
       "1094             Alex Chambers\n",
       "1500              Alexa Grasso\n",
       "122               Alexis Davis\n",
       "1515             Amanda Cooper\n",
       "193               Amanda Lemos\n",
       "686               Amanda Nunes\n",
       "380                 Andrea Lee\n",
       "1798               Angela Hill\n",
       "2241             Angela Magaña\n",
       "1367               Anna Elmose\n",
       "2309                Ariel Beck\n",
       "1323        Ashlee Evans-Smith\n",
       "2295              Ashley Yoder\n",
       "247                 Aspen Ladd\n",
       "2302              Barb Honchak\n",
       "1092              Bec Rawlings\n",
       "707              Bethe Correia\n",
       "177              Carla Esparza\n",
       "442                Cat Zingano\n",
       "235               Chan-Mi Jeon\n",
       "2306           Christina Marks\n",
       "122              Cindy Dandois\n",
       "19             Cláudia Gadelha\n",
       "465              Cortney Casey\n",
       "3650               Cris Cyborg\n",
       "1356          Cristina Stanciu\n",
       "3592          Cynthia Calvillo\n",
       "34             Danielle Taylor\n",
       "2304            DeAnna Bennett\n",
       "1645        Elizabeth Phillips\n",
       "1287               Emily Kagan\n",
       "3796            Emily Whitmire\n",
       "1119            Ericka Almeida\n",
       "67               Felice Herrig\n",
       "1367      Germaine de Randamie\n",
       "2310         Gillian Robertson\n",
       "305                Gina Mazany\n",
       "2239          Heather Jo Clark\n",
       "157                 Holly Holm\n",
       "327               Irene Aldana\n",
       "1082           Izabela Badurek\n",
       "330                 JJ Aldrich\n",
       "2286               Jamie Moyle\n",
       "447              Jennifer Maia\n",
       "2208             Jessamyn Duke\n",
       "449            Jessica Aguilar\n",
       "329                Jessica Eye\n",
       "2237             Jessica Penne\n",
       "2206           Jessica Rakoczy\n",
       "322         Jessica-Rose Clark\n",
       "436                Ji Yeon Kim\n",
       "1133        Joanna Jędrzejczyk\n",
       "473          Joanne Calderwood\n",
       "62      Jocelyn Jones-Lybarger\n",
       "239             Jodie Esquibel\n",
       "53                Juliana Lima\n",
       "1066             Julianna Peña\n",
       "707               Julie Kedzie\n",
       "3436              Justine Kish\n",
       "71             Jéssica Andrade\n",
       "1287             Kailin Curran\n",
       "329             Kalindra Faria\n",
       "239      Karolina Kowalkiewicz\n",
       "1429         Katlyn Chookagian\n",
       "1324            Kelly Faszholz\n",
       "1494             Ketlen Vieira\n",
       "914            Larissa Pacheco\n",
       "1813            Lauren Mueller\n",
       "1324             Lauren Murphy\n",
       "193               Leslie Smith\n",
       "111              Lina Länsberg\n",
       "1092                Lisa Ellis\n",
       "447              Liz Carmouche\n",
       "168             Lucie Pudilová\n",
       "3744            Mackenzie Dern\n",
       "340             Maia Stevenson\n",
       "3674              Mara Borella\n",
       "93               Marion Reneau\n",
       "1076              Maryna Moroz\n",
       "3775            Megan Anderson\n",
       "436             Melinda Fabián\n",
       "1718         Michelle Waterson\n",
       "923                Miesha Tate\n",
       "879             Milana Dudieva\n",
       "2306        Montana De La Rosa\n",
       "2300             Nicco Montaño\n",
       "62               Nina Ansaroff\n",
       "986              Paige VanZant\n",
       "3602            Pearl Gonzalez\n",
       "2208              Peggy Morgan\n",
       "384            Poliana Botelho\n",
       "340              Polyana Viana\n",
       "333         Priscila Cachoeira\n",
       "2317          Rachael Ostovich\n",
       "85                Randa Markos\n",
       "1678         Raquel Pennington\n",
       "923                  Rin Nakai\n",
       "3005              Ronda Rousey\n",
       "1276            Rose Namajunas\n",
       "674                Rosi Sexton\n",
       "2315         Roxanne Modafferi\n",
       "867                Sara McMann\n",
       "1547             Sarah Kaufman\n",
       "3666               Sarah Moras\n",
       "1264               Seo Hee Ham\n",
       "2309              Shana Dobson\n",
       "1054            Shayna Baszler\n",
       "3036               Sheila Gaff\n",
       "418             Sijara Eubanks\n",
       "235                Syuri Kondo\n",
       "208            Talita Bernardo\n",
       "277             Tatiana Suarez\n",
       "2241              Tecia Torres\n",
       "849             Tina Lähdemäki\n",
       "3650             Tonya Evinger\n",
       "333       Valentina Shevchenko\n",
       "1204        Valérie Létourneau\n",
       "380            Veronica Macedo\n",
       "3634           Viviane Pereira\n",
       "305                   Wu Yanan\n",
       "302                Yan Xiaonan\n",
       "3739           Yana Kunitskaya\n",
       "3807               Zhang Weili\n",
       "dtype: object"
      ]
     },
     "execution_count": 90,
     "metadata": {},
     "output_type": "execute_result"
    }
   ],
   "source": [
    "#validate Gender column for female fights\n",
    "df.Fighter1 = df.Fighter1.str.strip()\n",
    "df.Fighter2 = df.Fighter2.str.strip()\n",
    "df.Fighter1 = df.Fighter1.str.replace('Melinda Fábián', 'Melinda Fabián')\n",
    "df.Fighter2 = df.Fighter2.str.replace('Melinda Fábián', 'Melinda Fabián')\n",
    "df.Fighter1 = df.Fighter1.str.replace('Mara Romero Borella', 'Mara Borella')\n",
    "df.Fighter2 = df.Fighter2.str.replace('Mara Romero Borella', 'Mara Borella')\n",
    "\n",
    "ff1 = df.loc[df.Gender == 'F', 'Fighter1']\n",
    "ff2 = df.loc[df.Gender == 'F', 'Fighter2']\n",
    "fem = pd.concat((ff1, ff2), axis=0)\n",
    "print(\"count with duplicates: {0}\".format(fem.count())) #468\n",
    "fem.drop_duplicates(keep='first', inplace=True)\n",
    "print(\"count without duplicates: {0}\".format(fem.count())) #125\n",
    "fem.sort_values(inplace=True)\n",
    "fem\n",
    "\n",
    "#print(*pd.unique(fem), sep='\\n')\n",
    "##df.loc[df.Gender == 'F',['Fighter1', 'Fighter2', 'Gender']]\n",
    "\n",
    "#display number of fights per fighter\n",
    "#pd.options.display.max_rows = 1000\n",
    "#print(fem.groupby(fem).size())\n",
    "\n",
    "#df[df['Fighter1'].isin(fem) | df['Fighter2'].isin(fem)]\n",
    "#df.loc[46]\n",
    "\n",
    "#TODO: update gender column\n"
   ]
  },
  {
   "cell_type": "markdown",
   "metadata": {},
   "source": [
    "<h2>Visualizations</h2>"
   ]
  },
  {
   "cell_type": "code",
   "execution_count": null,
   "metadata": {},
   "outputs": [],
   "source": [
    "#WeightClass\n",
    "df.WeightClass.value_counts().plot.bar()\n",
    "plt.show()"
   ]
  },
  {
   "cell_type": "code",
   "execution_count": null,
   "metadata": {},
   "outputs": [],
   "source": [
    "#Outcome\n",
    "df.Outcome1.value_counts().plot.bar()\n",
    "plt.show()"
   ]
  },
  {
   "cell_type": "code",
   "execution_count": null,
   "metadata": {},
   "outputs": [],
   "source": [
    "df.Outcome1.value_counts().plot(kind='pie')\n",
    "plt.show()"
   ]
  },
  {
   "cell_type": "code",
   "execution_count": null,
   "metadata": {},
   "outputs": [],
   "source": [
    "#df.Outcome1.value_counts().plot(kind='box')\n",
    "#plt.show()"
   ]
  },
  {
   "cell_type": "code",
   "execution_count": null,
   "metadata": {},
   "outputs": [],
   "source": [
    "df.Outcome2.value_counts().plot(kind='pie')\n",
    "plt.show()"
   ]
  },
  {
   "cell_type": "markdown",
   "metadata": {},
   "source": [
    "<h2>Summary</h2>"
   ]
  },
  {
   "cell_type": "code",
   "execution_count": null,
   "metadata": {},
   "outputs": [],
   "source": [
    "#fighters who won 5-round decision, winning every round at least 1 judge\n",
    "decisions = df.loc[df.Judges.str.contains('50'),['isTitle', 'isTitle', 'Fighter1', 'Fighter2', 'Outcome1', 'Outcome2', 'Judges', 'EventDate']]\n",
    "decisions.EventDate = pd.to_datetime(decisions.EventDate)\n",
    "decisions.sort_values(by=['EventDate'], inplace=True)\n",
    "print(\"{0} decisions\".format(len(decisions)) #54\n",
    "decisions"
   ]
  },
  {
   "cell_type": "code",
   "execution_count": null,
   "metadata": {},
   "outputs": [],
   "source": [
    "#Shutout\n",
    "#fighters who won perfect 5-round decision, winning every round by all 3 judges\n",
    "shutout = df.loc[df.Judges.str.count('50') >= 3,['isTitle', 'Fighter1', 'Fighter2', 'Outcome1', 'Outcome2', 'Judges', 'EventDate']]\n",
    "shutout.EventDate = pd.to_datetime(shutout.EventDate)\n",
    "shutout.sort_values(by=['EventDate'], inplace=True)\n",
    "print(\"{0} shutout decisions\".format(len(shutout)) #24\n",
    "shutout"
   ]
  },
  {
   "cell_type": "code",
   "execution_count": null,
   "metadata": {},
   "outputs": [],
   "source": []
  }
 ],
 "metadata": {
  "kernelspec": {
   "display_name": "Python 3",
   "language": "python",
   "name": "python3"
  },
  "language_info": {
   "codemirror_mode": {
    "name": "ipython",
    "version": 3
   },
   "file_extension": ".py",
   "mimetype": "text/x-python",
   "name": "python",
   "nbconvert_exporter": "python",
   "pygments_lexer": "ipython3",
   "version": "3.6.5"
  }
 },
 "nbformat": 4,
 "nbformat_minor": 2
}
