{
 "cells": [
  {
   "cell_type": "markdown",
   "metadata": {},
   "source": [
    "## scraper.ipynb\n",
    "The sole job of this file is to provide the .csv data source. It scrapes over 200 wikipedia html files, each representing a UFC event, extracting fight data and combines them into one 21-column .csv file. It does no data cleaning. That is the responsibity of [ucf.ipynb](ufc.ipynb)."
   ]
  },
  {
   "cell_type": "code",
   "execution_count": 1,
   "metadata": {},
   "outputs": [],
   "source": [
    "import pandas as pd\n",
    "import numpy as np\n",
    "import re #for regex\n",
    "import os.path #for file handling\n",
    "from bs4 import BeautifulSoup, NavigableString #for web page scraping\n",
    "from IPython.core.display import display, HTML #display html document inside jupyter notebook\n",
    "from decimal import Decimal, DecimalException"
   ]
  },
  {
   "cell_type": "code",
   "execution_count": 2,
   "metadata": {},
   "outputs": [],
   "source": [
    "def get_clean_text(tr):\n",
    "    this_text = \"\"\n",
    "    \n",
    "    td = tr.find(name=\"td\")\n",
    "    if td is None:\n",
    "        return this_text\n",
    "    \n",
    "    #get string items only\n",
    "    for item in td.contents:\n",
    "        if isinstance(item, NavigableString):\n",
    "            if item is not None:\n",
    "                new_str = item.strip()\n",
    "                if new_str:\n",
    "                    this_text = new_str\n",
    "    \n",
    "    #if length of three or less is probably punctuation only. clear it out.\n",
    "    if len(new_str) < 4:\n",
    "        this_text = \"\"\n",
    "    \n",
    "    #if this_text still empty, loop and get text from all <A>\n",
    "    #(this ignores <A> inside <sup> tags)\n",
    "    if not new_str or len(new_str) < 3:\n",
    "        for item in td.contents:\n",
    "            if item.name is not None and item.name == \"a\":\n",
    "                this_text = this_text + item.text.strip() + \" \"\n",
    "    \n",
    "    #if this_text still empty, loop and get text from all <span>\n",
    "    if not new_str or len(new_str) < 3:\n",
    "        for item in td.contents:\n",
    "            if item.name is not None and item.name == \"span\":\n",
    "                this_text = this_text + item.text.strip() + \" \"\n",
    "    \n",
    "    #print(\"==========\")\n",
    "    #print(td)\n",
    "    #for item in td.contents:\n",
    "    #    if item:\n",
    "    #        print(\"true: {0}\".format(item.name))\n",
    "    #    else:\n",
    "    #        print(\"false: {0}\".format(item))\n",
    "    \n",
    "    #    if item.name is not None:\n",
    "    #        print(\"- \" + item.name)\n",
    "    #    elif isinstance(item, NavigableString):\n",
    "    #        print(\"- Text\")\n",
    "    #        print(\"  \" + item.strip())\n",
    "    #    else:\n",
    "    #        print(\"- [none]\")\n",
    "    \n",
    "    ##remove square brackets and content inside\n",
    "    #if \"[\" in this_text and \"]\" in this_text:\n",
    "    #    this_text = re.sub(r'\\[[^)]*\\]', '', this_text)\n",
    "    \n",
    "    return this_text.strip()"
   ]
  },
  {
   "cell_type": "code",
   "execution_count": 3,
   "metadata": {},
   "outputs": [],
   "source": [
    "def get_parent_td_text_clean(th):\n",
    "    if th.parent and th.parent.td:\n",
    "        return get_clean_text(th.parent)\n",
    "        #return th.parent.td.text.strip()"
   ]
  },
  {
   "cell_type": "code",
   "execution_count": 4,
   "metadata": {},
   "outputs": [],
   "source": [
    "def strip_extension(filename):\n",
    "    file = filename.replace(\".txt\", \"\")\n",
    "    file = file.replace(\".html\", \"\")\n",
    "    file = file.replace(\".htm\", \"\")\n",
    "    return file"
   ]
  },
  {
   "cell_type": "code",
   "execution_count": 5,
   "metadata": {},
   "outputs": [],
   "source": [
    "def isNum(str):\n",
    "    try: \n",
    "        Decimal(str)\n",
    "        #print(\"{0} is a number\".format(str))\n",
    "        return True\n",
    "    except (ValueError, DecimalException):\n",
    "        #print(\"{0} is not a number\".format(str))\n",
    "        return False"
   ]
  },
  {
   "cell_type": "code",
   "execution_count": 6,
   "metadata": {},
   "outputs": [],
   "source": [
    "def get_event_info(ps, filename):\n",
    "    venue_name = \"\"\n",
    "    venue_location = \"\"\n",
    "    event_name = \"\"\n",
    "    event_type = \"\"\n",
    "    event_number = \"\"\n",
    "    event_nickname = \"\"\n",
    "    event_date = \"\"\n",
    "    event_attendance = \"\"\n",
    "    event_gate = \"\"\n",
    "    event_buyrate = \"\"\n",
    "    event_purse = \"\"\n",
    "\n",
    "    #event name and number\n",
    "    event_code = strip_extension(filename)\n",
    "    event_name = event_code.replace(\"_\", \" \")\n",
    "    event_type, event_number = event_code.split(\"_\")\n",
    "    if not isNum(event_number):\n",
    "        rnum = (np.random.randint(1, 300)) * -1\n",
    "        event_number = str(rnum)\n",
    "\n",
    "    #parse for table and row\n",
    "    mtable = ps.find(name=\"body\").find(name=\"table\", attrs={\"class\":\"infobox\"})\n",
    "    trs = mtable.findAll(name=\"tr\")\n",
    "    \n",
    "    ##h1 firstHeading is event name\n",
    "    #h1 = ps.find(name=\"h1\", attrs={\"id\":\"firstHeading\"})\n",
    "    #if h1 is not None:\n",
    "    #    event_name = h1.text\n",
    "        \n",
    "    #first th is event nick name\n",
    "    th1 = ps.find(name=\"th\")\n",
    "    if th1 is not None:\n",
    "        event_nickname = th1.text\n",
    "        \n",
    "    #find rest of event data\n",
    "    for tr in trs[1:]:\n",
    "        th = tr.find(name=\"th\")\n",
    "        if th is None:\n",
    "            continue\n",
    "        if th.text.lower() == \"venue\":\n",
    "            venue_name = get_clean_text(tr)\n",
    "        elif th.text.lower() == \"date\":\n",
    "            event_date = get_clean_text(tr)\n",
    "        elif th.text.lower() == \"city\":\n",
    "            venue_location = get_clean_text(tr)\n",
    "        elif th.text.lower() == \"attendance\":\n",
    "            event_attendance = get_clean_text(tr)\n",
    "        elif th.text.lower() == \"total gate\":\n",
    "            event_gate = get_clean_text(tr)\n",
    "        elif th.text.lower() == \"total purse\":\n",
    "            event_purse = get_clean_text(tr)\n",
    "        elif th.text.lower() == \"buyrate\":\n",
    "            event_buyrate = get_clean_text(tr)\n",
    "            \n",
    "    #if venue_name and venue_location blank, get all th to loop thru\n",
    "    if not venue_name and not venue_location:\n",
    "        ths = ps.findAll(name=\"th\")\n",
    "        for th in ths:\n",
    "            if th and th.text.lower() == \"venue\":\n",
    "                venue_name = get_parent_td_text_clean(th)\n",
    "            if th and th.text.lower() == \"city\":\n",
    "                venue_location = get_parent_td_text_clean(th)\n",
    "            if th and th.text.lower() == \"attendance\":\n",
    "                event_attendance = get_parent_td_text_clean(th)\n",
    "            if th and th.text.lower() == \"total gate\":\n",
    "                event_gate = get_parent_td_text_clean(th)\n",
    "            if th and th.text.lower() == \"date\":\n",
    "                event_date = get_parent_td_text_clean(th)\n",
    "    \n",
    "    event_info = {\n",
    "        \"venue_name\" : venue_name,\n",
    "        \"venue_location\" : venue_location,\n",
    "        \"event_name\" : event_name,\n",
    "        \"event_type\" : event_type,\n",
    "        \"event_number\" : event_number,\n",
    "        \"event_nickname\" : event_nickname,\n",
    "        \"event_date\" : event_date,\n",
    "        \"event_attendance\" : event_attendance,\n",
    "        \"event_gate\" : event_gate,\n",
    "        \"event_buyrate\" : event_buyrate,\n",
    "        \"event_purse\" : event_purse\n",
    "    }\n",
    "    return event_info"
   ]
  },
  {
   "cell_type": "code",
   "execution_count": 7,
   "metadata": {},
   "outputs": [],
   "source": [
    "def get_td_text(td):\n",
    "    this_text = td.text.strip()\n",
    "    \n",
    "    #if this_text empty, try <A> text\n",
    "    if not this_text:\n",
    "        this_text = td.find(name=\"a\").text.strip()\n",
    "    \n",
    "    return this_text.strip()"
   ]
  },
  {
   "cell_type": "code",
   "execution_count": 8,
   "metadata": {},
   "outputs": [],
   "source": [
    "def get_fights(ps, event_info):\n",
    "    fights = []\n",
    "    fight_order = 0\n",
    "    mtable = ps.find(name=\"body\").find(name=\"table\", attrs={\"class\":\"toccolours\"})\n",
    "    trs = mtable.findAll(name=\"tr\")\n",
    "    for tr in trs:\n",
    "        #print(\"==================\")\n",
    "        #print(tr)\n",
    "        th = tr.findAll(name=\"th\")\n",
    "        #print(len(th))\n",
    "        if th is not None and len(th) > 0:\n",
    "            if len(th) == 1:\n",
    "                card = th[0].text\n",
    "                if \"main card\" in card.lower():\n",
    "                    isMainCard = True\n",
    "                else:\n",
    "                    isMainCard = False\n",
    "                #print(card)\n",
    "            continue\n",
    "        \n",
    "        td = tr.findAll(name=\"td\")\n",
    "        #print(len(td))\n",
    "        if len(td) > 0:\n",
    "            fight_order = fight_order + 1\n",
    "            isMainEvent = True if fight_order == 1 else False\n",
    "            weightclass = get_td_text(td[0])\n",
    "            fighter1 = get_td_text(td[1])\n",
    "            result = get_td_text(td[2])\n",
    "            fighter2 = get_td_text(td[3])\n",
    "            outcome = get_td_text(td[4])\n",
    "            rnd = get_td_text(td[5])\n",
    "            time = get_td_text(td[6])\n",
    "            fights.append((fight_order, isMainCard, isMainEvent, weightclass, fighter1, result, fighter2, outcome, rnd, time, event_info['venue_name'], event_info['venue_location'], event_info['event_date'], event_info['event_name'], event_info['event_nickname'], event_info['event_attendance'], event_info['event_gate'], event_info['event_buyrate'], event_info['event_purse'], event_info['event_type'], event_info['event_number']))\n",
    "            #print(isMainEvent, weightclass, winner, loser, outcome, rnd, time)\n",
    "\n",
    "    return fights"
   ]
  },
  {
   "cell_type": "code",
   "execution_count": 9,
   "metadata": {},
   "outputs": [],
   "source": [
    "def write_csv(df, filename):\n",
    "    file = strip_extension(filename)\n",
    "    df.to_csv(\"data/processed/{0}.csv\".format(file), index=False, header=True)"
   ]
  },
  {
   "cell_type": "code",
   "execution_count": 10,
   "metadata": {},
   "outputs": [],
   "source": [
    "def append_csv(df):\n",
    "    filename = \"data/processed/fights.csv\"\n",
    "    write_header = not os.path.exists(filename)\n",
    "    with open(filename, \"a\") as file:\n",
    "        df.to_csv(file, index=False, header=write_header)"
   ]
  },
  {
   "cell_type": "code",
   "execution_count": 11,
   "metadata": {},
   "outputs": [],
   "source": [
    "def delete_csv():\n",
    "    filename = \"data/processed/fights.csv\"\n",
    "    if os.path.exists(filename):\n",
    "        os.remove(filename)"
   ]
  },
  {
   "cell_type": "code",
   "execution_count": 12,
   "metadata": {},
   "outputs": [],
   "source": [
    "def write_excel(df, filename):\n",
    "    file = strip_extension(filename)\n",
    "    df.to_excel(\"data/processed/{0}.xlsx\".format(file), index=False)"
   ]
  },
  {
   "cell_type": "code",
   "execution_count": 13,
   "metadata": {},
   "outputs": [],
   "source": [
    "#untested\n",
    "def append_excel(df):\n",
    "    writer = pd.ExcelWriter(\"data/processed/fights.xlsx\")\n",
    "    start = 0\n",
    "    if writer.sheets:\n",
    "        start = writer.sheets[0].max_row\n",
    "    df.to_excel(writer, startrow = start, index=False)"
   ]
  },
  {
   "cell_type": "code",
   "execution_count": 14,
   "metadata": {},
   "outputs": [],
   "source": [
    "#check that all required columns contain data\n",
    "def is_valid(series):\n",
    "    #add True/False results to a list\n",
    "    bl = []\n",
    "    #first check that all required fields have data\n",
    "    bl.append(True if series['FightNum'] else False)\n",
    "    bl.append(True if series['isMainCard'] is not None else False)\n",
    "    bl.append(True if series['isMainEvent'] is not None else False)\n",
    "    bl.append(True if series['WeightClass'] else False)\n",
    "    bl.append(True if series['Fighter1'] else False)\n",
    "    bl.append(True if series['Fighter2'] else False)\n",
    "    bl.append(True if series['Result'] else False)\n",
    "    bl.append(True if series['Outcome'] else False)\n",
    "    bl.append(True if series['Round'] else False)\n",
    "    bl.append(True if series['Time'] else False)\n",
    "    bl.append(True if series['VenueName'] else False)\n",
    "    bl.append(True if series['VenueLocation'] else False)\n",
    "    bl.append(True if series['EventDate'] else False)\n",
    "    bl.append(True if series['EventName'] else False)\n",
    "    bl.append(True if series['EventType'] else False)\n",
    "    bl.append(True if series['EventNickname'] else False)\n",
    "    #Attendance not req for TV events\n",
    "    if series['EventType'] == \"UFC\" and Decimal(series['EventNum']) > 31.0:\n",
    "        bl.append(True if series['EventAtt'] else False)\n",
    "    #print(bl)\n",
    "    \n",
    "    #all returns true ONLY if all values are true\n",
    "    return all(bl)"
   ]
  },
  {
   "cell_type": "code",
   "execution_count": 15,
   "metadata": {},
   "outputs": [],
   "source": [
    "def process_html(filename, write_file):\n",
    "    #print(filename)\n",
    "    file = open(\"data/raw/\" + filename, \"r\", encoding=\"utf8\")\n",
    "    html_string = file.read()\n",
    "    #print(html_string)\n",
    "    \n",
    "    #pass the html string to BeautifulSoup\n",
    "    ps = BeautifulSoup(html_string, \"lxml\")\n",
    "    #print(ps.prettify())\n",
    "    #return\n",
    "    \n",
    "    #event info\n",
    "    event_info = get_event_info(ps, filename)\n",
    "    #print(event_info)\n",
    "    \n",
    "    #get fights\n",
    "    fights = get_fights(ps, event_info)\n",
    "    #print(len(fights))\n",
    "    \n",
    "    pd.set_option('display.max_columns', None)\n",
    "    cols = ['FightNum', 'isMainCard', 'isMainEvent', 'WeightClass', 'Fighter1', 'Result', 'Fighter2', 'Outcome', 'Round', 'Time', 'VenueName', 'VenueLocation', 'EventDate', 'EventName', 'EventNickname', 'EventAtt', 'EventGate', 'EventBuyrate', 'EventPurse', 'EventType', 'EventNum']\n",
    "    df = pd.DataFrame(fights, columns=cols)\n",
    "    \n",
    "    #validate data in each row of DataFrame by sending it to is_valid() method\n",
    "    #results will be a Series of boolean values. all(results) will return true ONLY if all values are true\n",
    "    results = df.apply(lambda row: is_valid(row), axis=1)\n",
    "    \n",
    "    #write file or print to screen\n",
    "    if write_file == True:\n",
    "        if all(results):\n",
    "            append_csv(df)\n",
    "            #write_csv(df, filename)\n",
    "        else:\n",
    "            print(filename + \" data frame is False\")\n",
    "    else:\n",
    "        print(\"{0} is Valid: {1}\".format(filename, all(results)));\n",
    "        print(df)"
   ]
  },
  {
   "cell_type": "code",
   "execution_count": 16,
   "metadata": {},
   "outputs": [],
   "source": [
    "def process_all():\n",
    "    path = \"data/raw/\"\n",
    "    for file in os.listdir(path):\n",
    "        #only process files, not directories\n",
    "        if not os.path.isfile(os.path.join(path, file)):\n",
    "            continue\n",
    "        #only process files with html extension\n",
    "        name, ext = os.path.splitext(file)\n",
    "        if ext != \".html\":\n",
    "            continue\n",
    "        #process the raw source file\n",
    "        process_html(file, True)"
   ]
  },
  {
   "cell_type": "markdown",
   "metadata": {},
   "source": [
    "<h2></h2>"
   ]
  },
  {
   "cell_type": "markdown",
   "metadata": {},
   "source": [
    "<h3><font color=\"#880000\">debug: uses IPython.core.display display, HTML</font></h3>"
   ]
  },
  {
   "cell_type": "code",
   "execution_count": null,
   "metadata": {},
   "outputs": [],
   "source": [
    "def displayhtml(html_string):\n",
    "    #convert the html string into an html object\n",
    "    html_obj = HTML(html_string)\n",
    "    display(html_obj)"
   ]
  },
  {
   "cell_type": "markdown",
   "metadata": {},
   "source": [
    "<h3><font color=\"#880000\">debug: find and print the body tag</font></h3>"
   ]
  },
  {
   "cell_type": "code",
   "execution_count": null,
   "metadata": {},
   "outputs": [],
   "source": [
    "def printBodyContent(ps)\n",
    "    body = ps.find(name=\"body\")\n",
    "    print(body)"
   ]
  },
  {
   "cell_type": "markdown",
   "metadata": {},
   "source": [
    "<h3><font color=\"#880000\">debug: get ALL the table tags</font></h3>"
   ]
  },
  {
   "cell_type": "code",
   "execution_count": null,
   "metadata": {},
   "outputs": [],
   "source": [
    "def printAllTables(ps):\n",
    "    alltable = body.findAll(name=\"table\")\n",
    "    print(alltable)"
   ]
  },
  {
   "cell_type": "markdown",
   "metadata": {},
   "source": [
    "<h3><font color=\"#880000\">debug: print table html???</font></h3>"
   ]
  },
  {
   "cell_type": "code",
   "execution_count": null,
   "metadata": {},
   "outputs": [],
   "source": [
    "def printTableContent(ps):\n",
    "    alltable = body.findAll(name=\"table\")\n",
    "    for table in alltable:\n",
    "        print(\"table\")"
   ]
  },
  {
   "cell_type": "markdown",
   "metadata": {},
   "source": [
    "<h3><font color=\"#880000\">debug: print table content</font></h3>"
   ]
  },
  {
   "cell_type": "code",
   "execution_count": null,
   "metadata": {},
   "outputs": [],
   "source": [
    "def printTableRows(ps):\n",
    "    alltable = body.findAll(name=\"table\")\n",
    "    for table in alltable:\n",
    "        print(\"table-----------------------------------\")\n",
    "        trs = table.findAll(name=\"tr\")\n",
    "        for tr in trs:\n",
    "            print(\"tr\")\n",
    "            td1 = tr.findAll(name=\"td\")\n",
    "            #print(len(td1))\n",
    "            if len(td1) > 0:\n",
    "                print(td1[0].text)"
   ]
  },
  {
   "cell_type": "markdown",
   "metadata": {},
   "source": [
    "<h3><font color=\"#880000\">debug test method: get alt venue</font></h3>"
   ]
  },
  {
   "cell_type": "code",
   "execution_count": 365,
   "metadata": {},
   "outputs": [],
   "source": [
    "file = open(\"data/raw/TUF_12.html\", \"r\", encoding=\"utf8\")\n",
    "html_string = file.read()\n",
    "ps = BeautifulSoup(html_string, \"lxml\")\n",
    "\n",
    "#for td in ps.find('th', text='Venue').parent.find_all('td'):\n",
    "#    print(td.text)\n",
    "\n",
    "#for td in ps.find('th', text='Venue'):\n",
    "#    print(td.parent.parent.td.text)\n",
    "\n",
    "#get single th GOOD\n",
    "#th = ps.find(\"th\", text=\"Venue\")\n",
    "#if th and th.parent and th.parent.td:\n",
    "#    print(th.parent.td.text)"
   ]
  },
  {
   "cell_type": "markdown",
   "metadata": {},
   "source": [
    "<h3><font color=\"#880000\">debug test method: get_event_info</font></h3>"
   ]
  },
  {
   "cell_type": "code",
   "execution_count": null,
   "metadata": {},
   "outputs": [],
   "source": [
    "event_info = get_event_info(None)\n",
    "print(event_info['venue_name'])"
   ]
  },
  {
   "cell_type": "markdown",
   "metadata": {},
   "source": [
    "<h2></h2>"
   ]
  },
  {
   "cell_type": "code",
   "execution_count": 17,
   "metadata": {},
   "outputs": [],
   "source": [
    "#delete master csv file\n",
    "delete_csv()"
   ]
  },
  {
   "cell_type": "code",
   "execution_count": 18,
   "metadata": {},
   "outputs": [],
   "source": [
    "#process all files in /data/raw/ and write to master csv file\n",
    "process_all()"
   ]
  },
  {
   "cell_type": "markdown",
   "metadata": {},
   "source": [
    "<p></p>"
   ]
  },
  {
   "cell_type": "code",
   "execution_count": null,
   "metadata": {},
   "outputs": [],
   "source": [
    "#test a single file (because of its unique html format)\n",
    "process_html(\"FN_58.html\", False)"
   ]
  },
  {
   "cell_type": "code",
   "execution_count": null,
   "metadata": {},
   "outputs": [],
   "source": [
    "#test a single file (because of its unique html format)\n",
    "process_html(\"UFC_37.5.html\", False)"
   ]
  },
  {
   "cell_type": "code",
   "execution_count": null,
   "metadata": {},
   "outputs": [],
   "source": [
    "#test a single file (because of its unique html format)\n",
    "process_html(\"FOX_3.html\", False)"
   ]
  },
  {
   "cell_type": "code",
   "execution_count": null,
   "metadata": {},
   "outputs": [],
   "source": [
    "#test a single file (because of its unique html format)\n",
    "process_html(\"FUEL_10.html\", False)"
   ]
  },
  {
   "cell_type": "code",
   "execution_count": null,
   "metadata": {},
   "outputs": [],
   "source": [
    "#test a single file (because of its unique html format)\n",
    "process_html(\"TUF_26.html\", False)"
   ]
  },
  {
   "cell_type": "code",
   "execution_count": null,
   "metadata": {},
   "outputs": [],
   "source": [
    "#test a single file (because of its unique html format)\n",
    "(\"FX_7.html\", False)"
   ]
  },
  {
   "cell_type": "markdown",
   "metadata": {},
   "source": [
    "<p></p>\n",
    "TODO: \n",
    "UFC_228_TODO.html"
   ]
  },
  {
   "cell_type": "code",
   "execution_count": null,
   "metadata": {},
   "outputs": [],
   "source": []
  }
 ],
 "metadata": {
  "anaconda-cloud": {},
  "kernelspec": {
   "display_name": "Python 3",
   "language": "python",
   "name": "python3"
  },
  "language_info": {
   "codemirror_mode": {
    "name": "ipython",
    "version": 3
   },
   "file_extension": ".py",
   "mimetype": "text/x-python",
   "name": "python",
   "nbconvert_exporter": "python",
   "pygments_lexer": "ipython3",
   "version": "3.6.5"
  }
 },
 "nbformat": 4,
 "nbformat_minor": 1
}
